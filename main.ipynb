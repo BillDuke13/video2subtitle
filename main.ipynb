{
 "cells": [
  {
   "cell_type": "markdown",
   "id": "e969dd5d-0ddc-4df9-9410-9016a4fbc2b2",
   "metadata": {},
   "source": [
    "# Setup"
   ]
  },
  {
   "cell_type": "markdown",
   "id": "19e2a888",
   "metadata": {},
   "source": [
    "## Install ffmpeg"
   ]
  },
  {
   "cell_type": "code",
   "execution_count": null,
   "id": "2f3f70b4-dcc8-4923-b252-b359414ed1bb",
   "metadata": {},
   "outputs": [],
   "source": [
    "import getpass\n",
    "import os\n",
    "\n",
    "password = getpass.getpass()\n",
    "command = \"sudo -S sudo apt update && sudo apt install ffmpeg -y\"\n",
    "os.system('echo %s | %s' % (password, command))"
   ]
  },
  {
   "cell_type": "code",
   "execution_count": null,
   "id": "b05d4172-1626-439c-a361-14a235283a4c",
   "metadata": {},
   "outputs": [],
   "source": [
    "!pip install git+https://github.com/openai/whisper.git "
   ]
  },
  {
   "cell_type": "markdown",
   "id": "44ca562a-030b-41bf-a033-1caae5010d14",
   "metadata": {},
   "source": [
    "<h1 align=\"center\">Available models(https://github.com/openai/whisper)</h1>\n",
    "\n",
    "| Size | Parameters | English-only model | Multilingual model | Required VRAM | Relative speed |\n",
    "|-|-|-|-|-|-|  \n",
    "| tiny | 39 M | tiny.en | tiny | ~1 GB | ~32x |\n",
    "| base | 74 M | base.en | base | ~1 GB | ~16x |\n",
    "| small | 244 M | small.en | small | ~2 GB | ~6x |\n",
    "| medium | 769 M | medium.en | medium | ~5 GB | ~2x |\n",
    "| large | 1550 M | N/A | large | ~10 GB | 1x |"
   ]
  },
  {
   "cell_type": "code",
   "execution_count": null,
   "id": "b4d13b6d-ee0c-4b0b-bff9-4ef2d8cc08d0",
   "metadata": {},
   "outputs": [],
   "source": [
    "import whisper\n",
    "from whisper.utils import get_writer\n",
    "\n",
    "\n",
    "def transcribe_audio_and_save_formats(audio, output_directory, formats, model):\n",
    "    \"\"\"\n",
    "    :param audio: The audio file to be transcribed.\n",
    "    :param output_directory: The directory where the transcriptions in different formats will be saved.\n",
    "    :param formats: The list of formats in which the transcription should be saved.\n",
    "    :param model: The loaded model.\n",
    "    :return: None\n",
    "    \"\"\"\n",
    "\n",
    "\n",
    "    result = model.transcribe(audio)\n",
    "\n",
    "    writer_settings = {'max_line_width': 35, 'max_line_count': 2, 'highlight_words': True}\n",
    "\n",
    "    for format in formats:\n",
    "        try:\n",
    "            writer = get_writer(format, output_directory)\n",
    "            writer(result, audio, writer_settings)\n",
    "        except Exception as e:\n",
    "            print(f'Error occurred while writing in {format} format: {e}')\n",
    "\n",
    "\n",
    "if __name__ == \"__main__\":\n",
    "    audio = \"VIDEO_FILE.mp4\"\n",
    "    output_directory = \"./\"\n",
    "    formats = [\"srt\", \"vtt\"]\n",
    "    model = whisper.load_model(\"large\")  # Load model\n",
    "    transcribe_audio_and_save_formats(audio, output_directory, formats, model)"
   ]
  },
  {
   "cell_type": "code",
   "execution_count": null,
   "id": "565208ea-35e2-4d24-95d6-534ae6167eb6",
   "metadata": {},
   "outputs": [],
   "source": []
  }
 ],
 "metadata": {
  "kernelspec": {
   "display_name": "Python 3 (ipykernel)",
   "language": "python",
   "name": "python3"
  },
  "language_info": {
   "codemirror_mode": {
    "name": "ipython",
    "version": 3
   },
   "file_extension": ".py",
   "mimetype": "text/x-python",
   "name": "python",
   "nbconvert_exporter": "python",
   "pygments_lexer": "ipython3",
   "version": "3.10.6"
  }
 },
 "nbformat": 4,
 "nbformat_minor": 5
}
