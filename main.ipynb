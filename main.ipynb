{
 "cells": [
  {
   "cell_type": "markdown",
   "id": "e969dd5d-0ddc-4df9-9410-9016a4fbc2b2",
   "metadata": {},
   "source": [
    "# Setup"
   ]
  },
  {
   "cell_type": "code",
   "execution_count": 1,
   "id": "2f3f70b4-dcc8-4923-b252-b359414ed1bb",
   "metadata": {},
   "outputs": [
    {
     "name": "stdout",
     "output_type": "stream",
     "text": [
      "[sudo] password for billduke: \n"
     ]
    }
   ],
   "source": [
    "!sudo apt update && sudo apt install ffmpeg -y"
   ]
  },
  {
   "cell_type": "code",
   "execution_count": 2,
   "id": "b05d4172-1626-439c-a361-14a235283a4c",
   "metadata": {},
   "outputs": [
    {
     "name": "stdout",
     "output_type": "stream",
     "text": [
      "Defaulting to user installation because normal site-packages is not writeable\n",
      "Collecting git+https://github.com/openai/whisper.git\n",
      "  Cloning https://github.com/openai/whisper.git to /tmp/pip-req-build-j_d95bws\n",
      "  Running command git clone --filter=blob:none --quiet https://github.com/openai/whisper.git /tmp/pip-req-build-j_d95bws\n",
      "  Resolved https://github.com/openai/whisper.git to commit b91c907694f96a3fb9da03d4bbdc83fbcd3a40a4\n",
      "  Installing build dependencies ... \u001b[?25ldone\n",
      "\u001b[?25h  Getting requirements to build wheel ... \u001b[?25ldone\n",
      "\u001b[?25h  Preparing metadata (pyproject.toml) ... \u001b[?25ldone\n",
      "\u001b[?25hRequirement already satisfied: tqdm in /home/billduke/.local/lib/python3.10/site-packages (from openai-whisper==20230314) (4.65.0)\n",
      "Requirement already satisfied: torch in /home/billduke/.local/lib/python3.10/site-packages (from openai-whisper==20230314) (2.0.1)\n",
      "Requirement already satisfied: numpy in /home/billduke/.local/lib/python3.10/site-packages (from openai-whisper==20230314) (1.24.4)\n",
      "Requirement already satisfied: triton==2.0.0 in /home/billduke/.local/lib/python3.10/site-packages (from openai-whisper==20230314) (2.0.0)\n",
      "Requirement already satisfied: numba in /home/billduke/.local/lib/python3.10/site-packages (from openai-whisper==20230314) (0.57.1)\n",
      "Requirement already satisfied: tiktoken==0.3.3 in /home/billduke/.local/lib/python3.10/site-packages (from openai-whisper==20230314) (0.3.3)\n",
      "Requirement already satisfied: more-itertools in /usr/lib/python3/dist-packages (from openai-whisper==20230314) (8.10.0)\n",
      "Requirement already satisfied: regex>=2022.1.18 in /home/billduke/.local/lib/python3.10/site-packages (from tiktoken==0.3.3->openai-whisper==20230314) (2023.6.3)\n",
      "Requirement already satisfied: requests>=2.26.0 in /home/billduke/.local/lib/python3.10/site-packages (from tiktoken==0.3.3->openai-whisper==20230314) (2.31.0)\n",
      "Requirement already satisfied: lit in /home/billduke/.local/lib/python3.10/site-packages (from triton==2.0.0->openai-whisper==20230314) (16.0.6)\n",
      "Requirement already satisfied: cmake in /home/billduke/.local/lib/python3.10/site-packages (from triton==2.0.0->openai-whisper==20230314) (3.27.0)\n",
      "Requirement already satisfied: filelock in /home/billduke/.local/lib/python3.10/site-packages (from triton==2.0.0->openai-whisper==20230314) (3.12.2)\n",
      "Requirement already satisfied: llvmlite<0.41,>=0.40.0dev0 in /home/billduke/.local/lib/python3.10/site-packages (from numba->openai-whisper==20230314) (0.40.1)\n",
      "Requirement already satisfied: sympy in /home/billduke/.local/lib/python3.10/site-packages (from torch->openai-whisper==20230314) (1.12)\n",
      "Requirement already satisfied: jinja2 in /home/billduke/.local/lib/python3.10/site-packages (from torch->openai-whisper==20230314) (3.1.2)\n",
      "Requirement already satisfied: nvidia-cusparse-cu11==11.7.4.91 in /home/billduke/.local/lib/python3.10/site-packages (from torch->openai-whisper==20230314) (11.7.4.91)\n",
      "Requirement already satisfied: nvidia-cusolver-cu11==11.4.0.1 in /home/billduke/.local/lib/python3.10/site-packages (from torch->openai-whisper==20230314) (11.4.0.1)\n",
      "Requirement already satisfied: typing-extensions in /home/billduke/.local/lib/python3.10/site-packages (from torch->openai-whisper==20230314) (4.7.1)\n",
      "Requirement already satisfied: nvidia-cuda-nvrtc-cu11==11.7.99 in /home/billduke/.local/lib/python3.10/site-packages (from torch->openai-whisper==20230314) (11.7.99)\n",
      "Requirement already satisfied: nvidia-nvtx-cu11==11.7.91 in /home/billduke/.local/lib/python3.10/site-packages (from torch->openai-whisper==20230314) (11.7.91)\n",
      "Requirement already satisfied: nvidia-cublas-cu11==11.10.3.66 in /home/billduke/.local/lib/python3.10/site-packages (from torch->openai-whisper==20230314) (11.10.3.66)\n",
      "Requirement already satisfied: nvidia-cuda-cupti-cu11==11.7.101 in /home/billduke/.local/lib/python3.10/site-packages (from torch->openai-whisper==20230314) (11.7.101)\n",
      "Requirement already satisfied: nvidia-curand-cu11==10.2.10.91 in /home/billduke/.local/lib/python3.10/site-packages (from torch->openai-whisper==20230314) (10.2.10.91)\n",
      "Requirement already satisfied: nvidia-nccl-cu11==2.14.3 in /home/billduke/.local/lib/python3.10/site-packages (from torch->openai-whisper==20230314) (2.14.3)\n",
      "Requirement already satisfied: nvidia-cufft-cu11==10.9.0.58 in /home/billduke/.local/lib/python3.10/site-packages (from torch->openai-whisper==20230314) (10.9.0.58)\n",
      "Requirement already satisfied: nvidia-cudnn-cu11==8.5.0.96 in /home/billduke/.local/lib/python3.10/site-packages (from torch->openai-whisper==20230314) (8.5.0.96)\n",
      "Requirement already satisfied: nvidia-cuda-runtime-cu11==11.7.99 in /home/billduke/.local/lib/python3.10/site-packages (from torch->openai-whisper==20230314) (11.7.99)\n",
      "Requirement already satisfied: networkx in /home/billduke/.local/lib/python3.10/site-packages (from torch->openai-whisper==20230314) (3.1)\n",
      "Requirement already satisfied: wheel in /usr/lib/python3/dist-packages (from nvidia-cublas-cu11==11.10.3.66->torch->openai-whisper==20230314) (0.37.1)\n",
      "Requirement already satisfied: setuptools in /home/billduke/.local/lib/python3.10/site-packages (from nvidia-cublas-cu11==11.10.3.66->torch->openai-whisper==20230314) (68.0.0)\n",
      "Requirement already satisfied: certifi>=2017.4.17 in /usr/lib/python3/dist-packages (from requests>=2.26.0->tiktoken==0.3.3->openai-whisper==20230314) (2020.6.20)\n",
      "Requirement already satisfied: urllib3<3,>=1.21.1 in /usr/lib/python3/dist-packages (from requests>=2.26.0->tiktoken==0.3.3->openai-whisper==20230314) (1.26.5)\n",
      "Requirement already satisfied: idna<4,>=2.5 in /usr/lib/python3/dist-packages (from requests>=2.26.0->tiktoken==0.3.3->openai-whisper==20230314) (3.3)\n",
      "Requirement already satisfied: charset-normalizer<4,>=2 in /home/billduke/.local/lib/python3.10/site-packages (from requests>=2.26.0->tiktoken==0.3.3->openai-whisper==20230314) (3.2.0)\n",
      "Requirement already satisfied: MarkupSafe>=2.0 in /home/billduke/.local/lib/python3.10/site-packages (from jinja2->torch->openai-whisper==20230314) (2.1.3)\n",
      "Requirement already satisfied: mpmath>=0.19 in /home/billduke/.local/lib/python3.10/site-packages (from sympy->torch->openai-whisper==20230314) (1.3.0)\n"
     ]
    }
   ],
   "source": [
    "!pip install git+https://github.com/openai/whisper.git "
   ]
  },
  {
   "cell_type": "markdown",
   "id": "44ca562a-030b-41bf-a033-1caae5010d14",
   "metadata": {},
   "source": [
    "<h1 align=\"center\">Available models(https://github.com/openai/whisper)</h1>\n",
    "\n",
    "| Size | Parameters | English-only model | Multilingual model | Required VRAM | Relative speed |\n",
    "|-|-|-|-|-|-|  \n",
    "| tiny | 39 M | tiny.en | tiny | ~1 GB | ~32x |\n",
    "| base | 74 M | base.en | base | ~1 GB | ~16x |\n",
    "| small | 244 M | small.en | small | ~2 GB | ~6x |\n",
    "| medium | 769 M | medium.en | medium | ~5 GB | ~2x |\n",
    "| large | 1550 M | N/A | large | ~10 GB | 1x |"
   ]
  },
  {
   "cell_type": "code",
   "execution_count": 3,
   "id": "b4d13b6d-ee0c-4b0b-bff9-4ef2d8cc08d0",
   "metadata": {},
   "outputs": [],
   "source": [
    "import whisper\n",
    "from whisper.utils import get_writer\n",
    "\n",
    "\n",
    "def transcribe_audio_and_save_formats(audio, output_directory, formats, model):\n",
    "    \"\"\"\n",
    "    :param audio: The audio file to be transcribed.\n",
    "    :param output_directory: The directory where the transcriptions in different formats will be saved.\n",
    "    :param formats: The list of formats in which the transcription should be saved.\n",
    "    :param model: The loaded model.\n",
    "    :return: None\n",
    "    \"\"\"\n",
    "\n",
    "\n",
    "    result = model.transcribe(audio)\n",
    "\n",
    "    writer_settings = {'max_line_width': 35, 'max_line_count': 2, 'highlight_words': True}\n",
    "\n",
    "    for format in formats:\n",
    "        try:\n",
    "            writer = get_writer(format, output_directory)\n",
    "            writer(result, audio, writer_settings)\n",
    "        except Exception as e:\n",
    "            print(f'Error occurred while writing in {format} format: {e}')\n",
    "\n",
    "\n",
    "if __name__ == \"__main__\":\n",
    "    audio = \"VIDEO_FILE.mp4\"\n",
    "    output_directory = \"./\"\n",
    "    formats = [\"srt\", \"vtt\"]\n",
    "    model = whisper.load_model(\"large\")  # Load model\n",
    "    transcribe_audio_and_save_formats(audio, output_directory, formats, model)"
   ]
  },
  {
   "cell_type": "code",
   "execution_count": null,
   "id": "565208ea-35e2-4d24-95d6-534ae6167eb6",
   "metadata": {},
   "outputs": [],
   "source": []
  }
 ],
 "metadata": {
  "kernelspec": {
   "display_name": "Python 3 (ipykernel)",
   "language": "python",
   "name": "python3"
  },
  "language_info": {
   "codemirror_mode": {
    "name": "ipython",
    "version": 3
   },
   "file_extension": ".py",
   "mimetype": "text/x-python",
   "name": "python",
   "nbconvert_exporter": "python",
   "pygments_lexer": "ipython3",
   "version": "3.10.6"
  }
 },
 "nbformat": 4,
 "nbformat_minor": 5
}
